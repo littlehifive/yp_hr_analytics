{
 "cells": [
  {
   "cell_type": "markdown",
   "id": "df36d69f-c6a3-4072-99de-a21558cd0162",
   "metadata": {
    "tags": []
   },
   "source": [
    "# HR Analytics\n",
    "\n",
    "## Task 1: Predicting Hiring Decisions for Connected at Youth Impact\n",
    "\n",
    "----"
   ]
  },
  {
   "cell_type": "code",
   "execution_count": 12,
   "id": "64c00a28-36ae-498f-9f7a-7a94ee6d8be6",
   "metadata": {
    "tags": []
   },
   "outputs": [],
   "source": [
    "# import necessary libraries and functions\n",
    "import pandas as pd\n",
    "import numpy as np\n",
    "import matplotlib.pyplot as plt\n",
    "from sklearn import model_selection, linear_model, tree, ensemble\n",
    "from sklearn.preprocessing import OneHotEncoder, MinMaxScaler\n",
    "from sklearn.pipeline import Pipeline\n",
    "from sklearn.compose import ColumnTransformer\n",
    "from sklearn.model_selection import GridSearchCV, RandomizedSearchCV\n",
    "from sklearn.metrics import accuracy_score, precision_score, f1_score, recall_score, roc_curve, roc_auc_score, confusion_matrix, classification_report\n",
    "import xgboost as xgb"
   ]
  },
  {
   "cell_type": "code",
   "execution_count": 13,
   "id": "e0cf8534-7864-44ed-8bd8-1b37f69bc26e",
   "metadata": {
    "tags": []
   },
   "outputs": [],
   "source": [
    "# global file path\n",
    "path_application = '/Users/michaelfive/Dropbox/R&I/18_Facilitator_Database/02_Data_Analysis/100_HR-Analytics/01_connected_data/application_data/'\n",
    "\n",
    "# import the cleaned and imputed dataset\n",
    "dat = pd.read_csv(path_application + 'cleaned/application_all_mi.csv')"
   ]
  },
  {
   "cell_type": "code",
   "execution_count": 3,
   "id": "c64ecf7d-3008-4631-a6f6-0eab736cc726",
   "metadata": {
    "tags": []
   },
   "outputs": [
    {
     "data": {
      "text/html": [
       "<div>\n",
       "<style scoped>\n",
       "    .dataframe tbody tr th:only-of-type {\n",
       "        vertical-align: middle;\n",
       "    }\n",
       "\n",
       "    .dataframe tbody tr th {\n",
       "        vertical-align: top;\n",
       "    }\n",
       "\n",
       "    .dataframe thead th {\n",
       "        text-align: right;\n",
       "    }\n",
       "</style>\n",
       "<table border=\"1\" class=\"dataframe\">\n",
       "  <thead>\n",
       "    <tr style=\"text-align: right;\">\n",
       "      <th></th>\n",
       "      <th>app_data_source</th>\n",
       "      <th>loc_region</th>\n",
       "      <th>return_to_yp</th>\n",
       "      <th>score_total</th>\n",
       "      <th>dem_gender</th>\n",
       "      <th>dem_age</th>\n",
       "      <th>edu_qual_highest</th>\n",
       "      <th>edu_qual_highest_year</th>\n",
       "      <th>emp_yes</th>\n",
       "      <th>emp_org_type</th>\n",
       "      <th>...</th>\n",
       "      <th>emp_currently</th>\n",
       "      <th>exp_w_child</th>\n",
       "      <th>exp_length_teacher</th>\n",
       "      <th>exp_length_school</th>\n",
       "      <th>exp_length_employee</th>\n",
       "      <th>exp_length_volunteer</th>\n",
       "      <th>interest_w_child</th>\n",
       "      <th>prac_scenario_volunt</th>\n",
       "      <th>prac_scenario_noshow</th>\n",
       "      <th>yi_hired</th>\n",
       "    </tr>\n",
       "  </thead>\n",
       "  <tbody>\n",
       "    <tr>\n",
       "      <th>0</th>\n",
       "      <td>T1 2020</td>\n",
       "      <td>Kgatleng</td>\n",
       "      <td>No</td>\n",
       "      <td>26.50</td>\n",
       "      <td>Female</td>\n",
       "      <td>28</td>\n",
       "      <td>Bachelors Degree</td>\n",
       "      <td>2013</td>\n",
       "      <td>Yes</td>\n",
       "      <td>Education</td>\n",
       "      <td>...</td>\n",
       "      <td>No</td>\n",
       "      <td>Yes</td>\n",
       "      <td>24.0</td>\n",
       "      <td>12.0</td>\n",
       "      <td>24.0</td>\n",
       "      <td>5.0</td>\n",
       "      <td>4</td>\n",
       "      <td>1</td>\n",
       "      <td>Planning together with fellow facilitators</td>\n",
       "      <td>0</td>\n",
       "    </tr>\n",
       "    <tr>\n",
       "      <th>1</th>\n",
       "      <td>T1 2020</td>\n",
       "      <td>Chobe</td>\n",
       "      <td>No</td>\n",
       "      <td>25.50</td>\n",
       "      <td>Female</td>\n",
       "      <td>35</td>\n",
       "      <td>Bachelors Degree</td>\n",
       "      <td>2017</td>\n",
       "      <td>Yes</td>\n",
       "      <td>Education</td>\n",
       "      <td>...</td>\n",
       "      <td>No</td>\n",
       "      <td>Yes</td>\n",
       "      <td>39.6</td>\n",
       "      <td>36.0</td>\n",
       "      <td>39.6</td>\n",
       "      <td>12.0</td>\n",
       "      <td>4</td>\n",
       "      <td>1</td>\n",
       "      <td>Planning together with fellow facilitators</td>\n",
       "      <td>0</td>\n",
       "    </tr>\n",
       "    <tr>\n",
       "      <th>2</th>\n",
       "      <td>T1 2020</td>\n",
       "      <td>Central</td>\n",
       "      <td>No</td>\n",
       "      <td>24.50</td>\n",
       "      <td>Female</td>\n",
       "      <td>25</td>\n",
       "      <td>Bachelors Degree</td>\n",
       "      <td>2017</td>\n",
       "      <td>Yes</td>\n",
       "      <td>Education</td>\n",
       "      <td>...</td>\n",
       "      <td>No</td>\n",
       "      <td>Yes</td>\n",
       "      <td>19.2</td>\n",
       "      <td>9.0</td>\n",
       "      <td>19.2</td>\n",
       "      <td>24.0</td>\n",
       "      <td>4</td>\n",
       "      <td>1</td>\n",
       "      <td>Planning together with fellow facilitators</td>\n",
       "      <td>0</td>\n",
       "    </tr>\n",
       "    <tr>\n",
       "      <th>3</th>\n",
       "      <td>T1 2020</td>\n",
       "      <td>South East</td>\n",
       "      <td>Yes</td>\n",
       "      <td>23.50</td>\n",
       "      <td>Female</td>\n",
       "      <td>29</td>\n",
       "      <td>Bachelors Degree</td>\n",
       "      <td>2013</td>\n",
       "      <td>Yes</td>\n",
       "      <td>Education</td>\n",
       "      <td>...</td>\n",
       "      <td>No</td>\n",
       "      <td>Yes</td>\n",
       "      <td>40.8</td>\n",
       "      <td>29.0</td>\n",
       "      <td>60.0</td>\n",
       "      <td>24.0</td>\n",
       "      <td>4</td>\n",
       "      <td>1</td>\n",
       "      <td>Planning together with fellow facilitators</td>\n",
       "      <td>1</td>\n",
       "    </tr>\n",
       "    <tr>\n",
       "      <th>4</th>\n",
       "      <td>T1 2020</td>\n",
       "      <td>North West</td>\n",
       "      <td>No</td>\n",
       "      <td>23.50</td>\n",
       "      <td>Female</td>\n",
       "      <td>32</td>\n",
       "      <td>Bachelors Degree</td>\n",
       "      <td>2011</td>\n",
       "      <td>Yes</td>\n",
       "      <td>Education</td>\n",
       "      <td>...</td>\n",
       "      <td>No</td>\n",
       "      <td>Yes</td>\n",
       "      <td>60.0</td>\n",
       "      <td>60.0</td>\n",
       "      <td>72.0</td>\n",
       "      <td>24.0</td>\n",
       "      <td>4</td>\n",
       "      <td>1</td>\n",
       "      <td>Planning together with fellow facilitators</td>\n",
       "      <td>0</td>\n",
       "    </tr>\n",
       "    <tr>\n",
       "      <th>...</th>\n",
       "      <td>...</td>\n",
       "      <td>...</td>\n",
       "      <td>...</td>\n",
       "      <td>...</td>\n",
       "      <td>...</td>\n",
       "      <td>...</td>\n",
       "      <td>...</td>\n",
       "      <td>...</td>\n",
       "      <td>...</td>\n",
       "      <td>...</td>\n",
       "      <td>...</td>\n",
       "      <td>...</td>\n",
       "      <td>...</td>\n",
       "      <td>...</td>\n",
       "      <td>...</td>\n",
       "      <td>...</td>\n",
       "      <td>...</td>\n",
       "      <td>...</td>\n",
       "      <td>...</td>\n",
       "      <td>...</td>\n",
       "      <td>...</td>\n",
       "    </tr>\n",
       "    <tr>\n",
       "      <th>1905</th>\n",
       "      <td>T3 2023</td>\n",
       "      <td>North East</td>\n",
       "      <td>No</td>\n",
       "      <td>-186.50</td>\n",
       "      <td>Female</td>\n",
       "      <td>23</td>\n",
       "      <td>Secondary School</td>\n",
       "      <td>2018</td>\n",
       "      <td>No</td>\n",
       "      <td>Other</td>\n",
       "      <td>...</td>\n",
       "      <td>Yes</td>\n",
       "      <td>No</td>\n",
       "      <td>21.6</td>\n",
       "      <td>3.0</td>\n",
       "      <td>2.0</td>\n",
       "      <td>2.0</td>\n",
       "      <td>1</td>\n",
       "      <td>1</td>\n",
       "      <td>Planning together with fellow facilitators</td>\n",
       "      <td>0</td>\n",
       "    </tr>\n",
       "    <tr>\n",
       "      <th>1906</th>\n",
       "      <td>T3 2023</td>\n",
       "      <td>South East</td>\n",
       "      <td>No</td>\n",
       "      <td>-188.75</td>\n",
       "      <td>Female</td>\n",
       "      <td>20</td>\n",
       "      <td>Secondary School</td>\n",
       "      <td>2021</td>\n",
       "      <td>No</td>\n",
       "      <td>Health care, social assistance, nonprofit</td>\n",
       "      <td>...</td>\n",
       "      <td>Yes</td>\n",
       "      <td>No</td>\n",
       "      <td>6.0</td>\n",
       "      <td>13.0</td>\n",
       "      <td>11.0</td>\n",
       "      <td>19.0</td>\n",
       "      <td>1</td>\n",
       "      <td>1</td>\n",
       "      <td>Plan individually</td>\n",
       "      <td>0</td>\n",
       "    </tr>\n",
       "    <tr>\n",
       "      <th>1907</th>\n",
       "      <td>T3 2023</td>\n",
       "      <td>Kgatleng</td>\n",
       "      <td>No</td>\n",
       "      <td>-191.00</td>\n",
       "      <td>Female</td>\n",
       "      <td>23</td>\n",
       "      <td>Certificate</td>\n",
       "      <td>2017</td>\n",
       "      <td>No</td>\n",
       "      <td>Health care, social assistance, nonprofit</td>\n",
       "      <td>...</td>\n",
       "      <td>Yes</td>\n",
       "      <td>No</td>\n",
       "      <td>30.0</td>\n",
       "      <td>24.0</td>\n",
       "      <td>7.0</td>\n",
       "      <td>3.0</td>\n",
       "      <td>1</td>\n",
       "      <td>1</td>\n",
       "      <td>Plan individually</td>\n",
       "      <td>0</td>\n",
       "    </tr>\n",
       "    <tr>\n",
       "      <th>1908</th>\n",
       "      <td>T3 2023</td>\n",
       "      <td>North East</td>\n",
       "      <td>No</td>\n",
       "      <td>-192.00</td>\n",
       "      <td>Female</td>\n",
       "      <td>22</td>\n",
       "      <td>Secondary School</td>\n",
       "      <td>2018</td>\n",
       "      <td>No</td>\n",
       "      <td>Other</td>\n",
       "      <td>...</td>\n",
       "      <td>No</td>\n",
       "      <td>No</td>\n",
       "      <td>18.0</td>\n",
       "      <td>24.0</td>\n",
       "      <td>24.0</td>\n",
       "      <td>36.0</td>\n",
       "      <td>1</td>\n",
       "      <td>1</td>\n",
       "      <td>Plan individually</td>\n",
       "      <td>0</td>\n",
       "    </tr>\n",
       "    <tr>\n",
       "      <th>1909</th>\n",
       "      <td>T3 2023</td>\n",
       "      <td>Kweneng</td>\n",
       "      <td>No</td>\n",
       "      <td>-193.00</td>\n",
       "      <td>Female</td>\n",
       "      <td>30</td>\n",
       "      <td>Bachelors Degree</td>\n",
       "      <td>2019</td>\n",
       "      <td>Yes</td>\n",
       "      <td>Military</td>\n",
       "      <td>...</td>\n",
       "      <td>Yes</td>\n",
       "      <td>No</td>\n",
       "      <td>48.0</td>\n",
       "      <td>36.0</td>\n",
       "      <td>32.4</td>\n",
       "      <td>48.0</td>\n",
       "      <td>1</td>\n",
       "      <td>0</td>\n",
       "      <td>Wait for supervisor or further instruction</td>\n",
       "      <td>0</td>\n",
       "    </tr>\n",
       "  </tbody>\n",
       "</table>\n",
       "<p>1910 rows × 21 columns</p>\n",
       "</div>"
      ],
      "text/plain": [
       "     app_data_source  loc_region return_to_yp  score_total dem_gender  \\\n",
       "0            T1 2020    Kgatleng           No        26.50     Female   \n",
       "1            T1 2020       Chobe           No        25.50     Female   \n",
       "2            T1 2020     Central           No        24.50     Female   \n",
       "3            T1 2020  South East          Yes        23.50     Female   \n",
       "4            T1 2020  North West           No        23.50     Female   \n",
       "...              ...         ...          ...          ...        ...   \n",
       "1905         T3 2023  North East           No      -186.50     Female   \n",
       "1906         T3 2023  South East           No      -188.75     Female   \n",
       "1907         T3 2023    Kgatleng           No      -191.00     Female   \n",
       "1908         T3 2023  North East           No      -192.00     Female   \n",
       "1909         T3 2023     Kweneng           No      -193.00     Female   \n",
       "\n",
       "      dem_age  edu_qual_highest  edu_qual_highest_year emp_yes  \\\n",
       "0          28  Bachelors Degree                   2013     Yes   \n",
       "1          35  Bachelors Degree                   2017     Yes   \n",
       "2          25  Bachelors Degree                   2017     Yes   \n",
       "3          29  Bachelors Degree                   2013     Yes   \n",
       "4          32  Bachelors Degree                   2011     Yes   \n",
       "...       ...               ...                    ...     ...   \n",
       "1905       23  Secondary School                   2018      No   \n",
       "1906       20  Secondary School                   2021      No   \n",
       "1907       23       Certificate                   2017      No   \n",
       "1908       22  Secondary School                   2018      No   \n",
       "1909       30  Bachelors Degree                   2019     Yes   \n",
       "\n",
       "                                   emp_org_type  ...  emp_currently  \\\n",
       "0                                     Education  ...             No   \n",
       "1                                     Education  ...             No   \n",
       "2                                     Education  ...             No   \n",
       "3                                     Education  ...             No   \n",
       "4                                     Education  ...             No   \n",
       "...                                         ...  ...            ...   \n",
       "1905                                      Other  ...            Yes   \n",
       "1906  Health care, social assistance, nonprofit  ...            Yes   \n",
       "1907  Health care, social assistance, nonprofit  ...            Yes   \n",
       "1908                                      Other  ...             No   \n",
       "1909                                   Military  ...            Yes   \n",
       "\n",
       "     exp_w_child exp_length_teacher  exp_length_school  exp_length_employee  \\\n",
       "0            Yes               24.0               12.0                 24.0   \n",
       "1            Yes               39.6               36.0                 39.6   \n",
       "2            Yes               19.2                9.0                 19.2   \n",
       "3            Yes               40.8               29.0                 60.0   \n",
       "4            Yes               60.0               60.0                 72.0   \n",
       "...          ...                ...                ...                  ...   \n",
       "1905          No               21.6                3.0                  2.0   \n",
       "1906          No                6.0               13.0                 11.0   \n",
       "1907          No               30.0               24.0                  7.0   \n",
       "1908          No               18.0               24.0                 24.0   \n",
       "1909          No               48.0               36.0                 32.4   \n",
       "\n",
       "      exp_length_volunteer  interest_w_child  prac_scenario_volunt  \\\n",
       "0                      5.0                 4                     1   \n",
       "1                     12.0                 4                     1   \n",
       "2                     24.0                 4                     1   \n",
       "3                     24.0                 4                     1   \n",
       "4                     24.0                 4                     1   \n",
       "...                    ...               ...                   ...   \n",
       "1905                   2.0                 1                     1   \n",
       "1906                  19.0                 1                     1   \n",
       "1907                   3.0                 1                     1   \n",
       "1908                  36.0                 1                     1   \n",
       "1909                  48.0                 1                     0   \n",
       "\n",
       "                            prac_scenario_noshow yi_hired  \n",
       "0     Planning together with fellow facilitators        0  \n",
       "1     Planning together with fellow facilitators        0  \n",
       "2     Planning together with fellow facilitators        0  \n",
       "3     Planning together with fellow facilitators        1  \n",
       "4     Planning together with fellow facilitators        0  \n",
       "...                                          ...      ...  \n",
       "1905  Planning together with fellow facilitators        0  \n",
       "1906                           Plan individually        0  \n",
       "1907                           Plan individually        0  \n",
       "1908                           Plan individually        0  \n",
       "1909  Wait for supervisor or further instruction        0  \n",
       "\n",
       "[1910 rows x 21 columns]"
      ]
     },
     "execution_count": 3,
     "metadata": {},
     "output_type": "execute_result"
    }
   ],
   "source": [
    "# check the dataset\n",
    "dat"
   ]
  },
  {
   "cell_type": "code",
   "execution_count": 14,
   "id": "c03cfe07-71c4-4f98-a108-45eeba70b3bb",
   "metadata": {
    "tags": []
   },
   "outputs": [],
   "source": [
    "# split the data into training and testing sets\n",
    "X = dat.drop(['yi_hired'], axis=1)\n",
    "y = dat['yi_hired']\n",
    "X_train, X_test, y_train, y_test = model_selection.train_test_split(X, y, test_size=0.2, stratify = y, random_state = 1234)"
   ]
  },
  {
   "cell_type": "code",
   "execution_count": 15,
   "id": "a4350904-4209-4765-9da2-2247b97a4b53",
   "metadata": {
    "tags": []
   },
   "outputs": [
    {
     "name": "stdout",
     "output_type": "stream",
     "text": [
      "yi_hired\n",
      "0    1352\n",
      "1     176\n",
      "Name: count, dtype: int64\n",
      "yi_hired\n",
      "0    338\n",
      "1     44\n",
      "Name: count, dtype: int64\n"
     ]
    }
   ],
   "source": [
    "# summary statistics of the outcome variable\n",
    "print(y_train.value_counts())\n",
    "print(y_test.value_counts())"
   ]
  },
  {
   "cell_type": "markdown",
   "id": "5231f8bc-7fb4-4741-9ad5-459a38b5aefd",
   "metadata": {},
   "source": [
    "# Modeling"
   ]
  },
  {
   "cell_type": "markdown",
   "id": "8c28ca5b-2540-424e-9d9b-6e41846b5c53",
   "metadata": {},
   "source": [
    "## Preprocessing Pipeline"
   ]
  },
  {
   "cell_type": "code",
   "execution_count": 16,
   "id": "461acf42-a7bb-4148-9cd5-59fd003823e5",
   "metadata": {
    "tags": []
   },
   "outputs": [
    {
     "name": "stdout",
     "output_type": "stream",
     "text": [
      "There are 10 numerical features: \n",
      "\n",
      "['score_total', 'dem_age', 'edu_qual_highest_year', 'emp_duration', 'exp_length_teacher', 'exp_length_school', 'exp_length_employee', 'exp_length_volunteer', 'interest_w_child', 'prac_scenario_volunt']\n"
     ]
    }
   ],
   "source": [
    "numerical_features = X_train.select_dtypes(include='number').columns.tolist()\n",
    "print(f'There are {len(numerical_features)} numerical features:', '\\n')\n",
    "print(numerical_features)"
   ]
  },
  {
   "cell_type": "code",
   "execution_count": 17,
   "id": "f0003c30-1dce-4dcf-a892-450243548853",
   "metadata": {
    "tags": []
   },
   "outputs": [
    {
     "name": "stdout",
     "output_type": "stream",
     "text": [
      "There are 10 categorical features: \n",
      "\n",
      "['app_data_source', 'loc_region', 'return_to_yp', 'dem_gender', 'edu_qual_highest', 'emp_yes', 'emp_org_type', 'emp_currently', 'exp_w_child', 'prac_scenario_noshow']\n"
     ]
    }
   ],
   "source": [
    "categorical_features = X_train.select_dtypes(exclude='number').columns.tolist()\n",
    "print(f'There are {len(categorical_features)} categorical features:', '\\n')\n",
    "print(categorical_features)"
   ]
  },
  {
   "cell_type": "code",
   "execution_count": 18,
   "id": "af0fc4c5-40e3-458b-8fe0-2a71d1a88549",
   "metadata": {
    "tags": []
   },
   "outputs": [],
   "source": [
    "# Create pipeline for numeric and categorical variables separately\n",
    "numeric_pipeline = Pipeline(steps=[\n",
    "    ('scale', MinMaxScaler()) # standardizing\n",
    "])\n",
    "\n",
    "categorical_pipeline = Pipeline(steps=[\n",
    "    ('one-hot', OneHotEncoder(handle_unknown='ignore', sparse_output=False)) # one hot encoding\n",
    "])\n",
    "\n",
    "full_processor = ColumnTransformer(transformers=[\n",
    "    ('number', numeric_pipeline, numerical_features),\n",
    "    ('category', categorical_pipeline, categorical_features)\n",
    "])"
   ]
  },
  {
   "cell_type": "code",
   "execution_count": 19,
   "id": "a243d211-ba35-4a23-9d3d-60e65ae9284d",
   "metadata": {},
   "outputs": [],
   "source": [
    "# function to get the adjusted threshold\n",
    "def adjust_threshold(model, X_test, y_test):\n",
    "    # Predict probabilities\n",
    "    yhat = model.predict_proba(X_test)\n",
    "\n",
    "    # Retrieve the probabilities for the positive class\n",
    "    yhat_positive = yhat[:, 1]\n",
    "\n",
    "    # Calculate inputs for the roc curve\n",
    "    fpr, tpr, thresholds = roc_curve(y_test, yhat_positive)\n",
    "\n",
    "    # Get the best threshold\n",
    "    J = tpr - fpr\n",
    "    ix = np.argmax(J)\n",
    "    best_thresh = thresholds[ix]\n",
    "\n",
    "    # Get predicted probabilities based on the best theshold\n",
    "    y_pred_proba = model.predict_proba(X_test)[:, 1]\n",
    "\n",
    "    # Apply the threshold to the probabilities\n",
    "    y_pred = (y_pred_proba >= best_thresh).astype(int)\n",
    "\n",
    "    return y_pred"
   ]
  },
  {
   "cell_type": "markdown",
   "id": "1574d14d-f87c-4ac4-9076-7adcdd56a003",
   "metadata": {},
   "source": [
    "## Logistic Regression"
   ]
  },
  {
   "cell_type": "code",
   "execution_count": 10,
   "id": "01422eb2-efa2-4c8e-9968-51a38ba083dc",
   "metadata": {
    "tags": []
   },
   "outputs": [],
   "source": [
    "# Pipeline\n",
    "logistic_pipe = Pipeline(steps=[\n",
    "    ('preprocess', full_processor),\n",
    "    ('model', linear_model.LogisticRegression(max_iter = 3000, class_weight='balanced'))\n",
    "])\n",
    "\n",
    "# Grid search\n",
    "logistic_search = GridSearchCV(\n",
    "    logistic_pipe,\n",
    "    {'model__C':np.logspace(-3,3,7), \n",
    "     'model__penalty': ['l2'], \n",
    "     'model__solver': ['lbfgs']},\n",
    "    cv = model_selection.RepeatedStratifiedKFold(n_splits=10, n_repeats=3, random_state=1), \n",
    "    scoring=\"balanced_accuracy\",\n",
    "    verbose=False\n",
    ")"
   ]
  },
  {
   "cell_type": "code",
   "execution_count": 11,
   "id": "425ed2a2-f17b-4310-837b-3ad480cf34ce",
   "metadata": {},
   "outputs": [],
   "source": [
    "# Train the model using the training sets\n",
    "logistic_fit = logistic_search.fit(X_train, y_train)\n",
    "\n",
    "# Make predictions using the testing set\n",
    "# y_pred_logistic = logistic_fit.predict(X_test)\n",
    "y_pred_logistic = adjust_threshold(logistic_fit, X_test, y_test)"
   ]
  },
  {
   "cell_type": "code",
   "execution_count": 12,
   "id": "8b466545-35d2-49aa-bddb-4b77b4863704",
   "metadata": {
    "tags": []
   },
   "outputs": [
    {
     "name": "stdout",
     "output_type": "stream",
     "text": [
      "[[197 141]\n",
      " [  7  37]]\n",
      "              precision    recall  f1-score   support\n",
      "\n",
      "           0       0.97      0.58      0.73       338\n",
      "           1       0.21      0.84      0.33        44\n",
      "\n",
      "    accuracy                           0.61       382\n",
      "   macro avg       0.59      0.71      0.53       382\n",
      "weighted avg       0.88      0.61      0.68       382\n",
      "\n"
     ]
    }
   ],
   "source": [
    "print(confusion_matrix(y_test, y_pred_logistic))\n",
    "print(classification_report(y_test, y_pred_logistic))"
   ]
  },
  {
   "cell_type": "markdown",
   "id": "f9320610-69d0-49fb-99a7-8674ee38efcd",
   "metadata": {},
   "source": [
    "# Tree model"
   ]
  },
  {
   "cell_type": "code",
   "execution_count": 13,
   "id": "a254761a-b80f-4995-8d15-0f14ca228ebe",
   "metadata": {
    "tags": []
   },
   "outputs": [],
   "source": [
    "# Pipeline\n",
    "tree_pipe = Pipeline(steps=[\n",
    "    ('preprocess', full_processor),\n",
    "    ('model', tree.DecisionTreeClassifier(random_state = 1234, class_weight='balanced'))\n",
    "])\n",
    "\n",
    "# Grid search\n",
    "tree_search = GridSearchCV(tree_pipe,\n",
    "                           {'model__max_depth':np.arange(2,12,2)},\n",
    "                           cv = model_selection.RepeatedStratifiedKFold(n_splits=10, n_repeats=3, random_state=1), \n",
    "                           scoring=\"balanced_accuracy\",\n",
    "                           verbose=False\n",
    "                      )\n",
    "\n",
    "# Train the model using the training sets\n",
    "tree_fit = tree_search.fit(X_train, y_train)"
   ]
  },
  {
   "cell_type": "code",
   "execution_count": 14,
   "id": "0519f621-818c-4f98-9265-8468360511df",
   "metadata": {},
   "outputs": [],
   "source": [
    "# Make predictions using the testing set\n",
    "# y_pred_tree = tree_search.predict(X_test)\n",
    "y_pred_tree = adjust_threshold(tree_fit, X_test, y_test)"
   ]
  },
  {
   "cell_type": "code",
   "execution_count": 15,
   "id": "5fd3a44c-07f2-4bc4-b5c4-83a76fabc649",
   "metadata": {},
   "outputs": [
    {
     "name": "stdout",
     "output_type": "stream",
     "text": [
      "[[194 144]\n",
      " [  8  36]]\n",
      "              precision    recall  f1-score   support\n",
      "\n",
      "           0       0.96      0.57      0.72       338\n",
      "           1       0.20      0.82      0.32        44\n",
      "\n",
      "    accuracy                           0.60       382\n",
      "   macro avg       0.58      0.70      0.52       382\n",
      "weighted avg       0.87      0.60      0.67       382\n",
      "\n"
     ]
    }
   ],
   "source": [
    "print(confusion_matrix(y_test, y_pred_tree))\n",
    "print(classification_report(y_test, y_pred_tree))"
   ]
  },
  {
   "cell_type": "code",
   "execution_count": 16,
   "id": "456c937d-5264-42f1-9070-59888cbb431e",
   "metadata": {},
   "outputs": [],
   "source": [
    "# plot tree results (if needed)\n",
    "\n",
    "# plt.figure(figsize=(30, 15)) # Resize figure\n",
    "           \n",
    "# tree.plot_tree(tree_search.best_estimator_[\"model\"],               \n",
    "#               fontsize = 20)"
   ]
  },
  {
   "cell_type": "markdown",
   "id": "e7ca7005-3a1b-44bc-96a2-15b793f3e12c",
   "metadata": {},
   "source": [
    "# Random Forest"
   ]
  },
  {
   "cell_type": "code",
   "execution_count": 17,
   "id": "1eb51b69-815d-4b16-9994-23e303a7b55b",
   "metadata": {},
   "outputs": [
    {
     "name": "stdout",
     "output_type": "stream",
     "text": [
      "Fitting 30 folds for each of 10 candidates, totalling 300 fits\n"
     ]
    }
   ],
   "source": [
    "# Pipeline\n",
    "rf_pipe = Pipeline(steps=[\n",
    "    ('preprocess', full_processor),\n",
    "    ('model', ensemble.RandomForestClassifier(random_state = 1234, class_weight='balanced'))\n",
    "])\n",
    "\n",
    "# A full grid search takes way too long to run, so I am using randomized search CV here.\n",
    "rf_search = RandomizedSearchCV(rf_pipe,\n",
    "                               {'model__n_estimators': [20,50,100],\n",
    "                                'model__max_depth': [10, 20, 30, 40, 50, 60, 70, 80, 90, 100, None],\n",
    "                                'model__max_features': ['sqrt'],\n",
    "                                'model__min_samples_leaf': [1, 2, 4],\n",
    "                                'model__min_samples_split': [2, 5, 10],\n",
    "                                'model__bootstrap': [True, False]\n",
    "                                },\n",
    "                               cv = model_selection.RepeatedStratifiedKFold(n_splits=10, n_repeats=3, random_state=1),\n",
    "                               scoring=\"balanced_accuracy\",\n",
    "                               verbose=True)\n",
    "\n",
    "# Train the model using the training sets\n",
    "rf_fit = rf_search.fit(X_train, y_train)"
   ]
  },
  {
   "cell_type": "code",
   "execution_count": 18,
   "id": "b1c62910-7d47-4541-be33-822bc7a653f1",
   "metadata": {},
   "outputs": [],
   "source": [
    "# Make predictions using the testing set\n",
    "# y_pred_rf = rf_search.predict(X_test)\n",
    "y_pred_rf = adjust_threshold(rf_fit, X_test, y_test)"
   ]
  },
  {
   "cell_type": "code",
   "execution_count": 19,
   "id": "9f44b078-f27f-4e3f-b83a-a843385a3caa",
   "metadata": {},
   "outputs": [
    {
     "name": "stdout",
     "output_type": "stream",
     "text": [
      "[[294  44]\n",
      " [ 15  29]]\n",
      "              precision    recall  f1-score   support\n",
      "\n",
      "           0       0.95      0.87      0.91       338\n",
      "           1       0.40      0.66      0.50        44\n",
      "\n",
      "    accuracy                           0.85       382\n",
      "   macro avg       0.67      0.76      0.70       382\n",
      "weighted avg       0.89      0.85      0.86       382\n",
      "\n"
     ]
    }
   ],
   "source": [
    "print(confusion_matrix(y_test, y_pred_rf))\n",
    "print(classification_report(y_test, y_pred_rf))"
   ]
  },
  {
   "cell_type": "markdown",
   "id": "dbbfe79e-5334-49dc-9f23-13bb7d2ba792",
   "metadata": {},
   "source": [
    "# XG Boost"
   ]
  },
  {
   "cell_type": "code",
   "execution_count": 35,
   "id": "6ee34716-2baf-45bc-9883-2301193ed346",
   "metadata": {},
   "outputs": [
    {
     "name": "stdout",
     "output_type": "stream",
     "text": [
      "Fitting 30 folds for each of 10 candidates, totalling 300 fits\n"
     ]
    }
   ],
   "source": [
    "# calculate the scale_pos_weight value\n",
    "class_counts = y_train.value_counts()\n",
    "scale_pos_weight = class_counts[0] / class_counts[1]\n",
    "\n",
    "# Pipeline\n",
    "xgb_pipe = Pipeline(steps=[\n",
    "    ('preprocess', full_processor),\n",
    "    ('model', xgb.XGBClassifier(random_state = 1234, \n",
    "                                eval_metric='logloss', \n",
    "                                scale_pos_weight = scale_pos_weight))\n",
    "])\n",
    "\n",
    "# Parameter grid for XGBoost\n",
    "param_grid = {'model__n_estimators': [20,50,100],\n",
    "              'model__learning_rate': [0.01, 0.1, 0.2, 0.3],\n",
    "              'model__max_depth': [3, 5, 7, 10],\n",
    "              'model__colsample_bytree': [0.5, 0.7, 1],\n",
    "              'model__gamma': [0, 0.1, 0.2]}\n",
    "\n",
    "# Use randomized search CV here\n",
    "xgb_search = RandomizedSearchCV(xgb_pipe,\n",
    "                                param_grid,\n",
    "                                cv = model_selection.RepeatedStratifiedKFold(n_splits=10, n_repeats=3, random_state=1),\n",
    "                                scoring=\"balanced_accuracy\",\n",
    "                                verbose=True)\n",
    "\n",
    "# Train the model using the training sets\n",
    "xgb_fit = xgb_search.fit(X_train, y_train)"
   ]
  },
  {
   "cell_type": "code",
   "execution_count": 50,
   "id": "57b184f0-11c7-4071-8f7d-78deb42c0457",
   "metadata": {},
   "outputs": [],
   "source": [
    "# Make predictions using the testing set\n",
    "# y_pred_xgb = xgb_search.predict(X_test)\n",
    "y_pred_xgb = adjust_threshold(xgb_fit, X_test, y_test)"
   ]
  },
  {
   "cell_type": "code",
   "execution_count": 51,
   "id": "df991d1d-82b3-4cba-97e8-583bce16a991",
   "metadata": {},
   "outputs": [
    {
     "name": "stdout",
     "output_type": "stream",
     "text": [
      "[[209 129]\n",
      " [  5  39]]\n",
      "              precision    recall  f1-score   support\n",
      "\n",
      "           0       0.98      0.62      0.76       338\n",
      "           1       0.23      0.89      0.37        44\n",
      "\n",
      "    accuracy                           0.65       382\n",
      "   macro avg       0.60      0.75      0.56       382\n",
      "weighted avg       0.89      0.65      0.71       382\n",
      "\n"
     ]
    }
   ],
   "source": [
    "print(confusion_matrix(y_test, y_pred_xgb))\n",
    "print(classification_report(y_test, y_pred_xgb))"
   ]
  },
  {
   "cell_type": "markdown",
   "id": "ea09478f-83d3-407e-9b41-8b9466d9e14d",
   "metadata": {},
   "source": [
    "# Interpreting the best model (XGBoost)\n",
    "\n",
    "## Class 0 (Not Hired)\n",
    "- Precision: 0.98 indicates that when the model predicts class 0, it's correct 98% of the time. In other words, if the model predicts \"Not Hired,\" it's very likely to be correct.\n",
    "- Recall: 0.62 means that the model correctly identifies 62% of all actual class 0 instances in the dataset. This implies that it's missing a significant portion (38%) of the \"Not Hired\" cases, potentially classifying them as \"Hired.\"\n",
    "- F1-Score: 0.76 is the harmonic mean of precision and recall. It gives a single metric that balances the trade-off between precision and recall. The high precision but lower recall for class 0 results in this intermediate f1-score.\n",
    "- Support: 338 is the total number of actual instances of class 0 in the data.\n",
    "\n",
    "## Class 1 (Hired)\n",
    "- Precision: 0.23 indicates that when the model predicts class 1, it's correct only 23% of the time. This means that many of the \"Hired\" predictions are false positives.\n",
    "- Recall: 0.89 means that the model correctly identifies 89% of all actual class 1 instances in the dataset. Despite the low precision, the model is quite good at capturing the majority of the \"Hired\" cases.\n",
    "- F1-Score: 0.37 is the harmonic mean of precision and recall for class 1. This low value reflects the model's struggle to balance high recall with low precision for class 1.\n",
    "- Support: 44 is the total number of actual instances of class 1 in the data. \n",
    "\n",
    "**Recall-oriented hiring strategy: If we are more focused on not missing any potentially qualified candidates (true positives), then we would prioritize recall. This strategy makes sense when the cost of missing a good candidate (false negative) is high. For example, in a highly competitive job market, or for positions that require unique skills, we might prefer to have a larger candidate pool to ensure we don't overlook someone who could be a great fit.**"
   ]
  },
  {
   "cell_type": "markdown",
   "id": "5f439372-63ca-4b6a-9a0f-c9fd059a1707",
   "metadata": {},
   "source": [
    "## Variable Importance Plot"
   ]
  },
  {
   "cell_type": "code",
   "execution_count": 33,
   "id": "cde81bb7-447c-4a1a-9b2d-7a4479cf6260",
   "metadata": {},
   "outputs": [
    {
     "data": {
      "image/png": "[encoded data removed]",
      "text/plain": [
       "<Figure size 1000x800 with 1 Axes>"
      ]
     },
     "metadata": {},
     "output_type": "display_data"
    }
   ],
   "source": [
    "# Additional code for feature importances\n",
    "# Extract the best estimator\n",
    "best_model = xgb_fit.best_estimator_.named_steps['model']\n",
    "\n",
    "# Get feature importance\n",
    "importance = best_model.get_booster().get_score(importance_type='gain')\n",
    "\n",
    "# Get feature names after transformation\n",
    "# For numeric features, the names stay the same\n",
    "numeric_feature_names = numerical_features\n",
    "\n",
    "# For categorical features, get out the one-hot encoded column names\n",
    "ohe = xgb_fit.best_estimator_.named_steps['preprocess'].named_transformers_['category'].named_steps['one-hot']\n",
    "categorical_feature_names = ohe.get_feature_names_out(categorical_features)\n",
    "\n",
    "# Combine the two lists\n",
    "feature_names = np.concatenate([numeric_feature_names, categorical_feature_names])\n",
    "\n",
    "# Now you can create the fmap using these feature names\n",
    "fmap = {f'f{i}': col for i, col in enumerate(feature_names)}\n",
    "\n",
    "# Replace feature names in the importance dict\n",
    "importance = {fmap[k]: v for k, v in importance.items()}\n",
    "\n",
    "# Convert the importance to a DataFrame for easier plotting\n",
    "importance_df = pd.DataFrame(list(importance.items()), columns=['Feature', 'Importance'])\n",
    "\n",
    "# Sort the DataFrame by importance\n",
    "importance_df = importance_df.sort_values(by='Importance', ascending=False)\n",
    "\n",
    "# Plot the feature importances\n",
    "plt.figure(figsize=(10,8))\n",
    "plt.barh(importance_df['Feature'], importance_df['Importance'])\n",
    "plt.gca().invert_yaxis()  # Invert y-axis to place the most important features at the top\n",
    "plt.xlabel('Importance')\n",
    "plt.title('Feature importances')\n",
    "plt.tight_layout()\n",
    "plt.savefig('feature_importances_hiring.png')\n",
    "plt.show()\n"
   ]
  },
  {
   "cell_type": "markdown",
   "id": "53e42b74-36f8-4da9-aec2-82eecef8e7da",
   "metadata": {},
   "source": [
    "# Save model objects for future use"
   ]
  },
  {
   "cell_type": "code",
   "execution_count": 40,
   "id": "19d3fc20-3e09-497d-82c0-d731db558a63",
   "metadata": {},
   "outputs": [
    {
     "name": "stdout",
     "output_type": "stream",
     "text": [
      "numeric_pipeline\n",
      "categorical_pipeline\n",
      "full_processor\n",
      "logistic_pipe\n",
      "logistic_search\n",
      "logistic_fit\n",
      "tree_pipe\n",
      "tree_search\n",
      "tree_fit\n",
      "rf_pipe\n",
      "rf_search\n",
      "rf_fit\n",
      "xgb_pipe\n",
      "xgb_search\n",
      "xgb_fit\n",
      "best_model\n",
      "ohe\n"
     ]
    }
   ],
   "source": [
    "# Import the base class for scikit-learn estimators to check the types of your objects\n",
    "from sklearn.base import BaseEstimator\n",
    "\n",
    "# Get a dictionary of all global objects\n",
    "global_objects = globals()\n",
    "\n",
    "# Filter this dictionary to get only the model objects\n",
    "model_objects = {name: obj for name, obj in global_objects.items() if isinstance(obj, BaseEstimator)}\n",
    "\n",
    "# Print the names of the model objects\n",
    "for name in model_objects.keys():\n",
    "    print(name)\n"
   ]
  },
  {
   "cell_type": "code",
   "execution_count": 56,
   "id": "a44b867d-5cae-42ae-aea0-5aa3aac7e321",
   "metadata": {},
   "outputs": [
    {
     "data": {
      "text/plain": [
       "['/Users/michaelfive/Desktop/R Directory/Youth Impact/yp_hr_analytics/models/xgb_fit.pkl']"
      ]
     },
     "execution_count": 56,
     "metadata": {},
     "output_type": "execute_result"
    }
   ],
   "source": [
    "import joblib\n",
    "import os\n",
    "\n",
    "# Create a designated folder\n",
    "os.makedirs('/Users/michaelfive/Desktop/R Directory/Youth Impact/yp_hr_analytics/models', exist_ok=True)\n",
    "\n",
    "# Create a dictionary that contains all your objects\n",
    "saved_objects = {\n",
    "    'numeric_pipeline': numeric_pipeline,\n",
    "    'categorical_pipeline': categorical_pipeline,\n",
    "    'full_processor': full_processor,\n",
    "    'xgb_pipe': xgb_pipe,\n",
    "    'xgb_search': xgb_search,\n",
    "    'xgb_fit': xgb_fit,\n",
    "    'logistic_pipe': logistic_pipe,\n",
    "    'logistic_search': logistic_search,\n",
    "    'logistic_fit': logistic_fit,\n",
    "    'tree_pipe': tree_pipe,\n",
    "    'tree_search': tree_search,\n",
    "    'tree_fit': tree_fit,\n",
    "    'rf_pipe': rf_pipe,\n",
    "    'rf_search': rf_search,\n",
    "    'rf_fit': rf_fit,\n",
    "}\n",
    "\n",
    "# Save the dictionary containing all objects\n",
    "joblib.dump(saved_objects, '/Users/michaelfive/Desktop/R Directory/Youth Impact/yp_hr_analytics/models/ML_models_predict_hiring.pkl')\n",
    "\n",
    "# Save the best model (xgboost)\n",
    "joblib.dump(xgb_fit, '/Users/michaelfive/Desktop/R Directory/Youth Impact/yp_hr_analytics/models/xgb_fit.pkl')"
   ]
  },
  {
   "cell_type": "markdown",
   "id": "605f1bf8-851b-4cfe-ae14-225e10a74227",
   "metadata": {},
   "source": [
    "# Predict future hiring"
   ]
  },
  {
   "cell_type": "code",
   "execution_count": 231,
   "id": "d97f36f9-87b1-437a-b39f-05658a3df31f",
   "metadata": {},
   "outputs": [],
   "source": [
    "# Store possible values of string variables into a dictionary of lists\n",
    "# choices = {f\"choices_{col}\": dat[col].unique().tolist() for col in dat.columns if dat[col].dtype == 'object'}\n",
    "# choices"
   ]
  },
  {
   "cell_type": "code",
   "execution_count": 57,
   "id": "d5e361cc-2074-417e-b5c0-d3ec853492fe",
   "metadata": {},
   "outputs": [],
   "source": [
    "# Manually specific a new data frame with one new entry of data\n",
    "temp_vars = {\n",
    "    'app_data_source': \"T2 2022\",\n",
    "    'loc_region': 'South East',\n",
    "    'return_to_yp': 'Yes',\n",
    "    'score_total': 27,\n",
    "    'dem_gender': 'Female',\n",
    "    'dem_age': 25,\n",
    "    'edu_qual_highest': 'Bachelor and above',\n",
    "    'edu_qual_highest_year': 2020,\n",
    "    'emp_yes': 'Yes',\n",
    "    'emp_org_type': 'Health care, social assistance, nonprofit',\n",
    "    'emp_duration': 45.6,\n",
    "    'emp_currently': 'No',\n",
    "    'exp_w_child': 'Yes',\n",
    "    'exp_length_teacher': 9.0,\n",
    "    'exp_length_school': 16.8,\n",
    "    'exp_length_employee': 12.0,\n",
    "    'exp_length_volunteer': 6.0,\n",
    "    'interest_w_child': 4,\n",
    "    'prac_scenario_volunt': 1,\n",
    "    'prac_scenario_noshow': 'Planning together with fellow facilitators'\n",
    "}\n",
    "\n",
    "temp_df = pd.DataFrame([temp_vars])\n"
   ]
  },
  {
   "cell_type": "code",
   "execution_count": 58,
   "id": "52c5e4ce-0dda-42a4-b8d3-3f70b8abd20e",
   "metadata": {},
   "outputs": [
    {
     "name": "stdout",
     "output_type": "stream",
     "text": [
      "Predicted likelihood of being hired: 81.74%\n"
     ]
    }
   ],
   "source": [
    "# Retrieve the best estimator from the RandomizedSearchCV\n",
    "best_model = xgb_fit.best_estimator_\n",
    "\n",
    "# Extract the preprocessor from the best estimator\n",
    "preprocessor = best_model.named_steps['preprocess']\n",
    "\n",
    "# Preprocess the single row using the fitted preprocessor\n",
    "preprocessed_row = preprocessor.transform(temp_df)\n",
    "\n",
    "# Get the predicted probabilities for the preprocessed row\n",
    "predicted_probabilities = best_model.named_steps['model'].predict_proba(preprocessed_row)\n",
    "\n",
    "# Extract the probability for class 1 (hired)\n",
    "probability_hired = predicted_probabilities[0][1]  # The second value in the array\n",
    "\n",
    "# Predict the hiring probabilities for this new potential hire\n",
    "print(f\"Predicted likelihood of being hired: {probability_hired * 100:.2f}%\")"
   ]
  },
  {
   "cell_type": "markdown",
   "id": "9a21ec6f-c444-4ea5-8df9-d67a699b2d77",
   "metadata": {},
   "source": [
    "**For an easier use of the model, see the python shiny website.**"
   ]
  },
  {
   "cell_type": "code",
   "execution_count": null,
   "id": "a39e2da7-92ce-4914-b326-c2880254829f",
   "metadata": {},
   "outputs": [],
   "source": []
  }
 ],
 "metadata": {
  "kernelspec": {
   "display_name": "Python 3 (ipykernel)",
   "language": "python",
   "name": "python3"
  },
  "language_info": {
   "codemirror_mode": {
    "name": "ipython",
    "version": 3
   },
   "file_extension": ".py",
   "mimetype": "text/x-python",
   "name": "python",
   "nbconvert_exporter": "python",
   "pygments_lexer": "ipython3",
   "version": "3.9.16"
  }
 },
 "nbformat": 4,
 "nbformat_minor": 5
}
